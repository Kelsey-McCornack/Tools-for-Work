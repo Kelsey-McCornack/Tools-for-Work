{
 "cells": [
  {
   "cell_type": "code",
   "execution_count": null,
   "metadata": {},
   "outputs": [],
   "source": [
    "# Program to generate orders e-mails from Purchasing Portal Active Orders\n",
    "# Import libraries\n",
    "import csv\n",
    "from collections import defaultdict\n",
    "from datetime import datetime\n",
    "import os"
   ]
  },
  {
   "cell_type": "markdown",
   "metadata": {},
   "source": [
    "### TO DO\n",
    "Write directly to .eml?\n",
    "Tidy comments"
   ]
  },
  {
   "cell_type": "code",
   "execution_count": null,
   "metadata": {},
   "outputs": [],
   "source": [
    "# Return most recent file in downloads directory\n",
    "downloads_path = 'C:\\\\Users\\\\Purchasing_Kelsey\\\\Downloads'\n",
    "most_recent_file = None\n",
    "most_recent_time = 0\n",
    "\n",
    "try:\n",
    "    for entry in os.scandir(downloads_path):\n",
    "        if entry.is_file():\n",
    "                # get the modification time of the file using entry.stat().st_mtime_ns\n",
    "            mod_time = entry.stat().st_mtime_ns\n",
    "            if mod_time > most_recent_time:\n",
    "                    # update the most recent file and its modification time\n",
    "                most_recent_file = entry.name\n",
    "                most_recent_time = mod_time\n",
    "\n",
    "except Exception as e:\n",
    "    print(e)\n",
    "\n",
    "print(most_recent_file)"
   ]
  },
  {
   "cell_type": "code",
   "execution_count": null,
   "metadata": {},
   "outputs": [],
   "source": [
    "# read most recent file into CSV\n",
    "data = {}\n",
    "target_file = downloads_path + '\\\\' + most_recent_file\n",
    "\n",
    "try:\n",
    "    with open (target_file, 'r', encoding='utf-8') as file:\n",
    "        csvreader = csv.reader(file, delimiter=',')\n",
    "        fields = next(csvreader)\n",
    "        for row in csvreader:\n",
    "            row_dict = dict(zip(fields, row))\n",
    "            lab_id = row_dict['Lab ID']\n",
    "            if lab_id in data:\n",
    "                data[lab_id].append(row_dict)\n",
    "            else:\n",
    "                data[lab_id] = [row_dict]\n",
    "except Exception as e:\n",
    "    print('Exception:', e)\n",
    "\n",
    "## TO DO: print the dict"
   ]
  },
  {
   "cell_type": "code",
   "execution_count": null,
   "metadata": {},
   "outputs": [],
   "source": [
    "km_emailed = datetime.today().strftime('%#m/%#d') + ' KM emailed'\n",
    "print(km_emailed)"
   ]
  },
  {
   "cell_type": "code",
   "execution_count": null,
   "metadata": {},
   "outputs": [],
   "source": [
    "# Clean data\n",
    "\n",
    "# Remove \"orig\" from product description\n",
    "for lab_id, entries in data.items():\n",
    "    for entry in entries:\n",
    "        product_description = entry.get('Product Name/Description', '')\n",
    "        if '(' in product_description:\n",
    "            product_description = product_description.split('(')[0].strip()\n",
    "            entry['Product Name/Description'] = product_description\n",
    "\n",
    "# remove surname from 'Requested by' field\n",
    "try:\n",
    "    for lab_id, entries in data.items():\n",
    "        for entry in entries:\n",
    "            requested_by = entry.get('Requested by', '')\n",
    "            if ' ' in requested_by:\n",
    "                requested_by = requested_by.split(' ')[0].strip()\n",
    "                entry['Requested by'] = requested_by\n",
    "except Exception as e:\n",
    "    print(e)"
   ]
  },
  {
   "cell_type": "code",
   "execution_count": null,
   "metadata": {},
   "outputs": [],
   "source": [
    "# function to write e-mails\n",
    "def write_order_emails(dict, output_file):\n",
    "    try:\n",
    "        with open(output_file, 'w', encoding='utf-8') as file:\n",
    "            for lab_id, orders in dict.items():\n",
    "                # generate text for multi-question e-mails\n",
    "                if len(orders) > 1:\n",
    "                    # Write the Lab ID and the combined product names for the \"Order Questions\"\n",
    "                    file.write(f\"Lab ID: {orders[0]['Lab ID']}\\n\\n\")\n",
    "                    product_names = ' & '.join([order['Product Name/Description'] for order in orders])\n",
    "                    file.write(f\"Order Questions: {product_names}\\n\\n\")\n",
    "                    \n",
    "                    # Greeting with the name of the requester from the first order\n",
    "                    file.write(f\"Hello {orders[0]['Requested by']}, \\n\\n\")\n",
    "                    file.write(f\"I have questions about the following orders:\\n\\n\")\n",
    "                    \n",
    "                    # Write the details for each order separately\n",
    "                    for order in orders:               \n",
    "                        file.write(f\"{order['Date requested']}, {order['Vendor Requested']}, \")\n",
    "                        file.write(f\"{order['Product Name/Description']}, {order['Catalog Number Requested']}\\n\\n\")\n",
    "                        file.write(f\"{order['Approval']}\\n\\n\")\n",
    "                    \n",
    "                    # Thank you and sign-off once at the end of the email\n",
    "                    file.write(f\"Thanks for your help.\\n\\n\")\n",
    "                    file.write(f\"Best,\\n\\n\")\n",
    "                    file.write(f\"Kelsey\\n\\n\")\n",
    "                    file.write(km_emailed)\n",
    "                    file.write(f\"\\n\\n\")\n",
    "                    file.write('-------------------------------------------------\\n\\n')\n",
    "                else:\n",
    "                    # This section handles the case for a single order, as you originally had\n",
    "                    order = orders[0]\n",
    "                    file.write(f\"Lab ID: {order['Lab ID']}\\n\\n\")\n",
    "                    file.write(f\"Order Question: {order['Product Name/Description']}\\n\\n\")\n",
    "                    file.write(f\"Hello {order['Requested by']},\\n\\n\")\n",
    "                    file.write(f\"I have a question about the following order:\\n\\n\")\n",
    "                    file.write(f\"{order['Date requested']}, {order['Vendor Requested']}, \")\n",
    "                    file.write(f\"{order['Product Name/Description']}, {order['Catalog Number Requested']}\\n\\n\")\n",
    "                    file.write(f\"{order['Approval']}\\n\\n\")\n",
    "                    file.write(f\"Thanks for your help.\\n\\n\")\n",
    "                    file.write(f\"Best,\\n\\n\")\n",
    "                    file.write(f\"Kelsey\\n\\n\")\n",
    "                    file.write(km_emailed)\n",
    "                    file.write(f\"\\n\\n\")\n",
    "                    file.write('-------------------------------------------------\\n\\n')\n",
    "    except Exception as e:\n",
    "        print(e)\n"
   ]
  },
  {
   "cell_type": "code",
   "execution_count": null,
   "metadata": {},
   "outputs": [],
   "source": [
    "# function to export to CSV. Accepts datafranem save destination path, and save file name.\n",
    "def export_to_csv(df, save_file_path, save_file_name):\n",
    "    try:\n",
    "        save_file_name = save_file_name + \"_\" + datetime.today().strftime('%m.%d.%Y') + \".csv\"\n",
    "        df.to_csv(save_file_path + save_file_name, encoding='utf-8', index=False)\n",
    "    except Exception as e:\n",
    "        print(e)\n",
    "    print(save_file_name, \"saved\")"
   ]
  },
  {
   "cell_type": "code",
   "execution_count": null,
   "metadata": {},
   "outputs": [],
   "source": [
    "# call function & write emails to .txt\n",
    "output_name = \"OrderQuestions_\" + datetime.today().strftime('%#m.%#d.%y') + \".txt\"\n",
    "output_file = \"C:\\\\Users\\\\Purchasing_Kelsey\\\\Documents\\\\K's Projects\\\\Generate Order Question Emails\\\\Generated Order Q's\\\\\" + output_name\n",
    "\n",
    "write_order_emails(data, output_file)\n",
    "print(output_name, \" saved\")"
   ]
  }
 ],
 "metadata": {
  "kernelspec": {
   "display_name": "Python 3",
   "language": "python",
   "name": "python3"
  },
  "language_info": {
   "codemirror_mode": {
    "name": "ipython",
    "version": 3
   },
   "file_extension": ".py",
   "mimetype": "text/x-python",
   "name": "python",
   "nbconvert_exporter": "python",
   "pygments_lexer": "ipython3",
   "version": "3.12.3"
  }
 },
 "nbformat": 4,
 "nbformat_minor": 2
}
