{
 "cells": [
  {
   "cell_type": "code",
   "execution_count": null,
   "metadata": {},
   "outputs": [],
   "source": [
    "# Program to allocate scarce resources\n",
    "# import libraries\n",
    "import pandas as pd\n",
    "from datetime import datetime\n",
    "from dateutil.relativedelta import relativedelta"
   ]
  },
  {
   "cell_type": "markdown",
   "metadata": {},
   "source": [
    "### To Do\n",
    "Add header/desciption\n",
    "Tidy comments\n",
    "Avoid hardcoding paths\n",
    "Reduce repetition"
   ]
  },
  {
   "cell_type": "code",
   "execution_count": null,
   "metadata": {},
   "outputs": [],
   "source": [
    "# open CSVs and convert to pandas dataframes\n",
    "dir_downloads = 'C:\\\\Users\\\\Purchasing_Kelsey\\\\Downloads\\\\'\n",
    "dir_taq = 'C:\\\\Users\\\\Purchasing_Kelsey\\\\Documents\\\\K\\'s Projects\\\\'\n",
    "\n",
    "files = [\n",
    "        'Active_Orders (10).csv',\n",
    "        'Ready To'\n",
    "        'Completed (3).csv',\n",
    "        #'Purchasing_Record (10).csv'\n",
    "]\n",
    "try:\n",
    "        df_active = pd.read_csv(dir_downloads + files[0], index_col=None, header = 0)\n",
    "        df_complete = pd.read_csv(dir_downloads + files[1])\n",
    "        #df_record = pd.read_csv(dir_downloads + files[2], index_col=None, header = 0)\n",
    "\n",
    "except Exception as e:\n",
    "        print(e)"
   ]
  },
  {
   "cell_type": "code",
   "execution_count": null,
   "metadata": {},
   "outputs": [],
   "source": [
    "# open CSVs and convert to pandas dataframes\n",
    "dir_downloads = 'C:\\\\Users\\\\Purchasing_Kelsey\\\\Downloads\\\\'\n",
    "dir_taq = 'C:\\\\Users\\\\Purchasing_Kelsey\\\\Documents\\\\K\\'s Projects\\\\'\n",
    "\n",
    "files = {\n",
    "        'Active': 'Active_Orders (11).csv',\n",
    "        'Ready to Order': 'Ready_to_Order (14).csv',\n",
    "        'Completed': 'Completed (3).csv',\n",
    "        'Purchasing Record': 'Purchasing_Record (10).csv',\n",
    "}\n",
    "\n",
    "try:\n",
    "    df_active = pd.read_csv(dir_downloads + files[list(files.keys()).index(\"Active\")], index_col=None, header = 0)\n",
    "    df_ready_to = pd.read_csv(dir_downloads + files[list(files.keys()).index(\"Ready to Order\")],  index_col=None, header = 0)\n",
    "    df_complete = pd.read_csv(dir_downloads + files[list(files.keys()).index(\"Completed\")],  index_col=None, header = 0)\n",
    "    #df_record = pd.read_csv(dir_downloads + files[2], index_col=None, header = 0)\n",
    "except Exception as e:\n",
    "    print(e)\n"
   ]
  },
  {
   "cell_type": "code",
   "execution_count": null,
   "metadata": {},
   "outputs": [],
   "source": [
    "# return the date 6 months + 1 day ago. Use to filter completed record.\n",
    "six_months_ago = datetime.now() + relativedelta(months=-6, days=-1)\n",
    "print(six_months_ago)"
   ]
  },
  {
   "cell_type": "code",
   "execution_count": null,
   "metadata": {},
   "outputs": [],
   "source": [
    "\n",
    "# WIP - trying to assign variable names dynamically\n",
    "files = {\n",
    "        'Active': 'Active_Orders (11).csv',\n",
    "        'Ready to Order': 'Ready_to_Order (14).csv'\n",
    "        'Completed': 'Completed (3).csv',\n",
    "        'Purchasing Record': 'Purchasing_Record (10).csv'\n",
    "}\n",
    "\n",
    "for index, (key, value) in enumerate(files.items()):\n",
    "        if value:  # Checks if the value is not blank (None, empty string, etc.)\n",
    "            print(key, '-',value, 'exists')"
   ]
  },
  {
   "cell_type": "code",
   "execution_count": null,
   "metadata": {},
   "outputs": [],
   "source": [
    "list(files.keys()).index(\"Active\")"
   ]
  },
  {
   "cell_type": "code",
   "execution_count": null,
   "metadata": {},
   "outputs": [],
   "source": [
    "# return the date 6 months + 1 day ago. Use to filter completed record.\n",
    "six_months_ago = datetime.now() + relativedelta(months=-6, days=-1)\n",
    "print(six_months_ago)"
   ]
  },
  {
   "cell_type": "code",
   "execution_count": null,
   "metadata": {},
   "outputs": [],
   "source": [
    "# Define functions\n",
    "\n",
    "# function to filter dfs to keep only target items. Accepts a df and lists of vendors, cat nos, statsuses, and column names.\n",
    "def filter_portal_df(df, keep_vend, keep_cat, rm_stat):\n",
    "    try:\n",
    "        # Filter based on the provided lists\n",
    "        df = df[df['Vendor Requested'].isin(keep_vend)]\n",
    "        df = df[df['Catalog No'].isin(keep_cat)]\n",
    "        df = df[~df['Status'].isin(rm_stat)]\n",
    "        \n",
    "        # Debugging: Print unique values for verification\n",
    "        print('Vendors: ', df['Vendor Requested'].unique())\n",
    "        print('Cat Nos: ', df['Catalog No'].unique())\n",
    "        print('Statuses: ', df['Status'].unique())\n",
    "\n",
    "        # Iterate over columns to apply the condition for 'Tracking #' column\n",
    "        #for column in df.columns:\n",
    "           # if column == 'Tracking #' and df[column].dtype == 'object':\n",
    "                #df[column] = df[column].str.replace(r'\\.0$', '', regex=True)  # Remove trailing '.0' from strings\n",
    "\n",
    "        return df.copy()\n",
    "    except Exception as e:\n",
    "        print(e)\n",
    "\n",
    "# function to drop columns that aren't keys in a dict\n",
    "def drop_cols(df, keep_col_dict): \n",
    "    keep_col_list = list(keep_col_dict.keys())\n",
    "    drop_col = df.columns[~df.columns.isin(keep_col_list)]\n",
    "    df = df.drop(df[drop_col], axis=1)\n",
    "    return df.copy()\n",
    "\n",
    "def get_5_recent_orders(df):\n",
    "    try:\n",
    "        df_sorted = df.sort_values(by=['Lab ID', 'Date requested'], ascending=[True, False])\n",
    "\n",
    "        df_rec_ord = df_sorted.groupby('Lab ID').head(5)\n",
    "        df_rec_ord.head()\n",
    "        return df_rec_ord\n",
    "\n",
    "    except Exception as e:\n",
    "        print(e)\n",
    "\n",
    "# Function to filter df_completed to contain only orders for labs with pending Taq orders.\n",
    "# Accepts filtered Active Orders & filtered completed orders dfs\n",
    "def keep_target_labIDs(df_act, df_comp):\n",
    "    target_labs = df_act['Lab ID'].unique()\n",
    "    df_comp = df_comp[df_comp['Lab ID'].isin(target_labs)]\n",
    "    return df_comp.copy()\n",
    "\n",
    "def format_tracking_num(df):\n",
    "    # Check if 'Tracking #' column exists in the DataFrame\n",
    "    if 'Tracking #' in df.columns:\n",
    "        # Convert the 'Tracking #' column to string type if it's not already, while preserving NaN\n",
    "        df['Tracking #'] = df['Tracking #'].apply(lambda x: str(x).replace('.0', '') if pd.notna(x) else x)\n",
    "    \n",
    "    return df\n",
    "\n",
    "# function to save to a given directory with a given name\n",
    "def save_to_csv(df, save_dir, save_name):\n",
    "    save_name = save_name + datetime.today().strftime('%m.%d.%Y') + \".csv\"\n",
    "    try:\n",
    "        df.to_csv(save_dir + save_name, encoding='utf-8', index=False)\n",
    "        print(save_name, \"saved\")\n",
    "        \n",
    "    except Exception as e:\n",
    "        print(e)"
   ]
  },
  {
   "cell_type": "code",
   "execution_count": null,
   "metadata": {},
   "outputs": [],
   "source": [
    "# define lists of values to keep and exclude\n",
    "keep_catnos = ['T-1012']\n",
    "\n",
    "rm_statuses = ['Canceled']\n",
    "\n",
    "keep_vendors = [\n",
    "    'DCW',\n",
    "    'DCW-K',\n",
    "    'DCWK',\n",
    "    'IEH Equipment'\n",
    "]\n",
    "\n",
    "keep_col_portal = {\n",
    "    'Date requested':'datetime',\n",
    "    'Lab ID':str,\n",
    "    'Vendor Requested':str,\n",
    "    'Product Name/Description':str,\n",
    "    'Catalog Number Requested':str,\n",
    "    'Quantity':int,\n",
    "    'Date Order Placed':'datetime',\n",
    "    'Tracking #':str,\n",
    "    'sheet':str,\n",
    "}\n"
   ]
  },
  {
   "cell_type": "code",
   "execution_count": null,
   "metadata": {},
   "outputs": [],
   "source": [
    "# Comment out columns to keep\n",
    "rm_cols = [\n",
    "    #'Date requested',\n",
    "    'Approval',\n",
    "    #'Status',\n",
    "    #'Lab ID',\n",
    "    'Vendor',\n",
    "    #'Vendor Requested',\n",
    "    'Attention',\n",
    "    'Shipping Priority',\n",
    "    #'Product Name/Description',\n",
    "    'Catalog No',\n",
    "    #'Catalog Number Requested',\n",
    "    #'Quantity',\n",
    "    'Unit',\n",
    "    'Use',\n",
    "    'Internal Use or Billed to Customer',\n",
    "    'Cost / Unit',\n",
    "    #'PO #',\n",
    "    #'Confirmation #',\n",
    "    #'Notes',\n",
    "    #'Purchasing Notes',\n",
    "    'Packing Notes',\n",
    "    'Date Order Placed',\n",
    "    'Tracking #',\n",
    "    #'sheet',\n",
    "    'Requested by',\n",
    "    'Web URL',\n",
    "]"
   ]
  },
  {
   "cell_type": "code",
   "execution_count": null,
   "metadata": {},
   "outputs": [],
   "source": [
    "# Updated drop cols function\n",
    "def drop_cols_2(df, rm_col_list): \n",
    "    drop_col = df.columns[df.columns.isin(rm_col_list)]\n",
    "    df = df.drop(df[drop_col], axis=1)\n",
    "    return df.copy()"
   ]
  },
  {
   "cell_type": "code",
   "execution_count": null,
   "metadata": {},
   "outputs": [],
   "source": [
    "#Filter Active df, add ID column.\n",
    "df_active = drop_cols_2(df_active, rm_cols)\n",
    "df_active['ID'] = df_active.index + 1\n",
    "\n",
    "save_to_csv(df_active, dir_taq, 'GhostRecords_Active_')"
   ]
  },
  {
   "cell_type": "code",
   "execution_count": null,
   "metadata": {},
   "outputs": [],
   "source": [
    "# filter Record df, add ID column\n",
    "df_record = drop_cols_2(df_record, rm_cols)\n",
    "df_record['ID'] = df_record.index + 1\n",
    "\n",
    "save_to_csv(df_record, dir_taq, 'GhostRecords_PurchasingRecord_COMPLETE_')"
   ]
  },
  {
   "cell_type": "code",
   "execution_count": null,
   "metadata": {},
   "outputs": [],
   "source": [
    "# Call functions to filter dfs\n",
    "df_active = filter_portal_df(df_active, keep_vendors, keep_catnos, rm_statuses)\n",
    "df_active = drop_cols(df_active, keep_col_portal)\n",
    "df_active.head()"
   ]
  },
  {
   "cell_type": "code",
   "execution_count": null,
   "metadata": {},
   "outputs": [],
   "source": [
    "# Filter DF Completed\n",
    "#df_completed = keep_target_labIDs(df_active, df_completed)\n",
    "df_completed = drop_cols(df_completed, keep_col_portal)\n",
    "#df_completed = filter_portal_df(df_completed, keep_vendors, keep_catnos, rm_statuses)\n",
    "\n",
    "print(df_completed.head())"
   ]
  },
  {
   "cell_type": "code",
   "execution_count": null,
   "metadata": {},
   "outputs": [],
   "source": [
    "try:\n",
    "\n",
    "        df_completed = df_completed[df_completed['Vendor Requested'].isin(keep_vendors)]\n",
    "        df_completed = df_completed[df_completed['Catalog No'].isin(keep_col_portal)]\n",
    "        df_completed = df_completed[~df_completed['Status'].isin(rm_statuses)]\n",
    "\n",
    "except Exception as e:\n",
    "        print(e)\n",
    "        \n",
    "print(df_completed.head())"
   ]
  },
  {
   "cell_type": "code",
   "execution_count": null,
   "metadata": {},
   "outputs": [],
   "source": [
    "# Sorted and grouped df\n",
    "df_recent_orders = get_5_recent_orders(df_completed)\n",
    "df_recent_orders = format_tracking_num(df_completed)\n",
    "df_recent_orders.head()"
   ]
  },
  {
   "cell_type": "code",
   "execution_count": null,
   "metadata": {},
   "outputs": [],
   "source": [
    "# Merge FedEx tracking to df_completed\n",
    "df_fedex = df_fedex.rename(columns={'Tracking ID':'Tracking #'})\n",
    "df_fedex['Tracking #'] = df_fedex['Tracking #'].astype(str)\n",
    "\n",
    "# Filter out rows with NaN values in 'Tracking #' column in df_completed\n",
    "df_not_nan = df_completed[df_completed['Tracking #'].notna()].copy()\n",
    "\n",
    "# Ensure tracking columns are the is the same type (convert both to string)\n",
    "df_not_nan['Tracking #'] = df_not_nan['Tracking #'].astype(str)\n",
    "\n",
    "df_not_nan['Tracking #'] = df_not_nan['Tracking #'].astype(str)\n"
   ]
  },
  {
   "cell_type": "code",
   "execution_count": null,
   "metadata": {},
   "outputs": [],
   "source": [
    "save_to_csv(df_completed, dir_taq, \"Taq6Months_\")\n",
    "#save_to_csv(df_recent_orders, dir_taq, \"Taq_Last_5_Orders_\")"
   ]
  },
  {
   "cell_type": "markdown",
   "metadata": {},
   "source": []
  }
 ],
 "metadata": {
  "kernelspec": {
   "display_name": "Python 3",
   "language": "python",
   "name": "python3"
  },
  "language_info": {
   "codemirror_mode": {
    "name": "ipython",
    "version": 3
   },
   "file_extension": ".py",
   "mimetype": "text/x-python",
   "name": "python",
   "nbconvert_exporter": "python",
   "pygments_lexer": "ipython3",
   "version": "3.12.3"
  }
 },
 "nbformat": 4,
 "nbformat_minor": 2
}
